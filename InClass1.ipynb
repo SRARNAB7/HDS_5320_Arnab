{
  "nbformat": 4,
  "nbformat_minor": 0,
  "metadata": {
    "colab": {
      "provenance": [],
      "authorship_tag": "ABX9TyNGBShidYc91ORcqL9e+2kx",
      "include_colab_link": true
    },
    "kernelspec": {
      "name": "python3",
      "display_name": "Python 3"
    },
    "language_info": {
      "name": "python"
    }
  },
  "cells": [
    {
      "cell_type": "markdown",
      "metadata": {
        "id": "view-in-github",
        "colab_type": "text"
      },
      "source": [
        "<a href=\"https://colab.research.google.com/github/SRARNAB7/HDS_5320_Arnab/blob/main/InClass1.ipynb\" target=\"_parent\"><img src=\"https://colab.research.google.com/assets/colab-badge.svg\" alt=\"Open In Colab\"/></a>"
      ]
    },
    {
      "cell_type": "code",
      "execution_count": 1,
      "metadata": {
        "id": "aFSiAf7Lwdvp"
      },
      "outputs": [],
      "source": [
        "import numpy as np\n",
        "import pandas as pd\n",
        "\n",
        "data = pd.read_csv('data.csv')\n",
        "#x= np.array([3.78,2.44,2.01,.14,1.72,1.65,4.92,4.37,4.96,4.52,3.69,5.88]).reshape(-1,1)\n",
        "x=data[['FFMC']]\n",
        "y=np.array([1,1,2,2,2,2,2,2,2,2,2,2,2,2,2,2,2,2,2,2,2,2])"
      ]
    },
    {
      "cell_type": "code",
      "source": [
        "from sklearn import linear_model\n",
        "from sklearn.linear_model import LogisticRegression\n",
        "from sklearn.metrics import classification_report, confusion_matrix\n",
        "model = linear_model.LogisticRegression(solver= 'liblinear', C=10,random_state= 0)\n",
        "model.fit(x,y)\n",
        "p_pred = model.predict_proba(x)\n",
        "y_pred = model.predict(x)\n",
        "score = model.score(x,y)\n",
        "con_m = confusion_matrix(y,y_pred)\n",
        "print(score)\n",
        "print(con_m)"
      ],
      "metadata": {
        "colab": {
          "base_uri": "https://localhost:8080/"
        },
        "id": "OsEi6qCbw-o7",
        "outputId": "2685961e-7077-425a-f167-661d90b55020"
      },
      "execution_count": 3,
      "outputs": [
        {
          "output_type": "stream",
          "name": "stdout",
          "text": [
            "0.9545454545454546\n",
            "[[ 1  1]\n",
            " [ 0 20]]\n"
          ]
        }
      ]
    }
  ]
}